{
 "cells": [
  {
   "cell_type": "markdown",
   "id": "751555e7",
   "metadata": {},
   "source": [
    "# Structure of Project"
   ]
  },
  {
   "cell_type": "markdown",
   "id": "8d31ff92",
   "metadata": {
    "slideshow": {
     "slide_type": "slide"
    }
   },
   "source": [
    "## Collect and pre-process data\n",
    "\n",
    "1. Decide list of tracks we are working with\n",
    "- Done\n",
    "\n",
    "2. Get key parts of individual tracks we want to work with \n",
    "- Almost there\n",
    "\n",
    "3. Obtain a workable version of the individual tracks\n",
    "- Done-ish\n",
    "- This really depends on how much we want to impress people"
   ]
  },
  {
   "cell_type": "markdown",
   "id": "464f1cd8",
   "metadata": {},
   "source": [
    "## Genetic Algorythm\n",
    "- All of this almost done, have to slightly change to account for input data\n",
    "- Can be quickly improved\n",
    "- For reference : [Kie Codes Video](https://www.youtube.com/watch?v=uQj5UNhCPuo)\n",
    "- The thing is, this really depends on the first part, which is the hardest...\n",
    "\n",
    "\n",
    "#### Individual Functions\n",
    "1. Generative Function\n",
    "2. Fitness Function\n",
    "3. Selection Function\n",
    "4. Crossover Function\n",
    "5. Mutation Function"
   ]
  },
  {
   "cell_type": "markdown",
   "id": "a48788d1",
   "metadata": {},
   "source": [
    "## Converting Output to MIDI\n",
    "- Done, but at mist basic level\n",
    "- Have to adjust for data"
   ]
  }
 ],
 "metadata": {
  "celltoolbar": "Slideshow",
  "kernelspec": {
   "display_name": "Python 3 (ipykernel)",
   "language": "python",
   "name": "python3"
  },
  "language_info": {
   "codemirror_mode": {
    "name": "ipython",
    "version": 3
   },
   "file_extension": ".py",
   "mimetype": "text/x-python",
   "name": "python",
   "nbconvert_exporter": "python",
   "pygments_lexer": "ipython3",
   "version": "3.9.13"
  }
 },
 "nbformat": 4,
 "nbformat_minor": 5
}
