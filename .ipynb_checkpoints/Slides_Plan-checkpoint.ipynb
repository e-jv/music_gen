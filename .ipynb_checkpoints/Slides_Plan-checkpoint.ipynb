{
 "cells": [
  {
   "cell_type": "markdown",
   "id": "1a780078",
   "metadata": {},
   "source": [
    "#### Slide Guidelines\n",
    "- The structure of the presentation should reflect the data science life cycle.\n",
    "- It should emphasize that we are exploring the concept of 'Genetic Algorithms' through music creation.\n",
    "- It should include our struggles and how we chose to adapt.\n",
    "\n",
    "*Link To Presentaiton* https://www.canva.com/design/DAFd3iG7rLg/hjaPdH9HogxBonhYG97cRQ/edit?utm_content=DAFd3iG7rLg&utm_campaign=designshare&utm_medium=link2&utm_source=sharebutton"
   ]
  },
  {
   "cell_type": "code",
   "execution_count": null,
   "id": "ddb4b97e",
   "metadata": {},
   "outputs": [],
   "source": []
  }
 ],
 "metadata": {
  "celltoolbar": "Slideshow",
  "kernelspec": {
   "display_name": "Python 3 (ipykernel)",
   "language": "python",
   "name": "python3"
  },
  "language_info": {
   "codemirror_mode": {
    "name": "ipython",
    "version": 3
   },
   "file_extension": ".py",
   "mimetype": "text/x-python",
   "name": "python",
   "nbconvert_exporter": "python",
   "pygments_lexer": "ipython3",
   "version": "3.9.13"
  }
 },
 "nbformat": 4,
 "nbformat_minor": 5
}
